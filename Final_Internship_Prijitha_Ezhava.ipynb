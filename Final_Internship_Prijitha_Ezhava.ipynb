{
 "cells": [
  {
   "cell_type": "markdown",
   "id": "35bca39c",
   "metadata": {},
   "source": [
    "#  Importing Necessary Packages"
   ]
  },
  {
   "cell_type": "code",
   "execution_count": 1,
   "id": "5d1c0c80",
   "metadata": {},
   "outputs": [],
   "source": [
    "import pandas as pd\n",
    "import numpy as np\n",
    "# For plotting graphs\n",
    "import seaborn as sns\n",
    "import matplotlib.pyplot as plt\n",
    "# To standardise the data and k-Means Clustering\n",
    "from sklearn.preprocessing import StandardScaler\n",
    "from sklearn.cluster import KMeans"
   ]
  },
  {
   "cell_type": "markdown",
   "id": "9be5771a",
   "metadata": {},
   "source": [
    "# 1. Reading the data from csv"
   ]
  },
  {
   "cell_type": "code",
   "execution_count": 2,
   "id": "a6ffb303",
   "metadata": {},
   "outputs": [],
   "source": [
    "data = pd.read_excel(r\"C:\\Users\\Dell\\Downloads\\Online Retail.xlsx\")"
   ]
  },
  {
   "cell_type": "markdown",
   "id": "33248163",
   "metadata": {},
   "source": [
    "# 2. Understand the Data"
   ]
  },
  {
   "cell_type": "code",
   "execution_count": 3,
   "id": "fa14264c",
   "metadata": {},
   "outputs": [
    {
     "data": {
      "text/html": [
       "<div>\n",
       "<style scoped>\n",
       "    .dataframe tbody tr th:only-of-type {\n",
       "        vertical-align: middle;\n",
       "    }\n",
       "\n",
       "    .dataframe tbody tr th {\n",
       "        vertical-align: top;\n",
       "    }\n",
       "\n",
       "    .dataframe thead th {\n",
       "        text-align: right;\n",
       "    }\n",
       "</style>\n",
       "<table border=\"1\" class=\"dataframe\">\n",
       "  <thead>\n",
       "    <tr style=\"text-align: right;\">\n",
       "      <th></th>\n",
       "      <th>InvoiceNo</th>\n",
       "      <th>StockCode</th>\n",
       "      <th>Description</th>\n",
       "      <th>Quantity</th>\n",
       "      <th>InvoiceDate</th>\n",
       "      <th>UnitPrice</th>\n",
       "      <th>CustomerID</th>\n",
       "      <th>Country</th>\n",
       "    </tr>\n",
       "  </thead>\n",
       "  <tbody>\n",
       "    <tr>\n",
       "      <th>0</th>\n",
       "      <td>536365</td>\n",
       "      <td>85123A</td>\n",
       "      <td>WHITE HANGING HEART T-LIGHT HOLDER</td>\n",
       "      <td>6</td>\n",
       "      <td>2010-12-01 08:26:00</td>\n",
       "      <td>2.55</td>\n",
       "      <td>17850.0</td>\n",
       "      <td>United Kingdom</td>\n",
       "    </tr>\n",
       "    <tr>\n",
       "      <th>1</th>\n",
       "      <td>536365</td>\n",
       "      <td>71053</td>\n",
       "      <td>WHITE METAL LANTERN</td>\n",
       "      <td>6</td>\n",
       "      <td>2010-12-01 08:26:00</td>\n",
       "      <td>3.39</td>\n",
       "      <td>17850.0</td>\n",
       "      <td>United Kingdom</td>\n",
       "    </tr>\n",
       "    <tr>\n",
       "      <th>2</th>\n",
       "      <td>536365</td>\n",
       "      <td>84406B</td>\n",
       "      <td>CREAM CUPID HEARTS COAT HANGER</td>\n",
       "      <td>8</td>\n",
       "      <td>2010-12-01 08:26:00</td>\n",
       "      <td>2.75</td>\n",
       "      <td>17850.0</td>\n",
       "      <td>United Kingdom</td>\n",
       "    </tr>\n",
       "    <tr>\n",
       "      <th>3</th>\n",
       "      <td>536365</td>\n",
       "      <td>84029G</td>\n",
       "      <td>KNITTED UNION FLAG HOT WATER BOTTLE</td>\n",
       "      <td>6</td>\n",
       "      <td>2010-12-01 08:26:00</td>\n",
       "      <td>3.39</td>\n",
       "      <td>17850.0</td>\n",
       "      <td>United Kingdom</td>\n",
       "    </tr>\n",
       "    <tr>\n",
       "      <th>4</th>\n",
       "      <td>536365</td>\n",
       "      <td>84029E</td>\n",
       "      <td>RED WOOLLY HOTTIE WHITE HEART.</td>\n",
       "      <td>6</td>\n",
       "      <td>2010-12-01 08:26:00</td>\n",
       "      <td>3.39</td>\n",
       "      <td>17850.0</td>\n",
       "      <td>United Kingdom</td>\n",
       "    </tr>\n",
       "  </tbody>\n",
       "</table>\n",
       "</div>"
      ],
      "text/plain": [
       "  InvoiceNo StockCode                          Description  Quantity  \\\n",
       "0    536365    85123A   WHITE HANGING HEART T-LIGHT HOLDER         6   \n",
       "1    536365     71053                  WHITE METAL LANTERN         6   \n",
       "2    536365    84406B       CREAM CUPID HEARTS COAT HANGER         8   \n",
       "3    536365    84029G  KNITTED UNION FLAG HOT WATER BOTTLE         6   \n",
       "4    536365    84029E       RED WOOLLY HOTTIE WHITE HEART.         6   \n",
       "\n",
       "          InvoiceDate  UnitPrice  CustomerID         Country  \n",
       "0 2010-12-01 08:26:00       2.55     17850.0  United Kingdom  \n",
       "1 2010-12-01 08:26:00       3.39     17850.0  United Kingdom  \n",
       "2 2010-12-01 08:26:00       2.75     17850.0  United Kingdom  \n",
       "3 2010-12-01 08:26:00       3.39     17850.0  United Kingdom  \n",
       "4 2010-12-01 08:26:00       3.39     17850.0  United Kingdom  "
      ]
     },
     "execution_count": 3,
     "metadata": {},
     "output_type": "execute_result"
    }
   ],
   "source": [
    "# Displaying the top 5 rows of the dataset using head()\n",
    "data.head()"
   ]
  },
  {
   "cell_type": "code",
   "execution_count": 4,
   "id": "7c3a1e52-90d1-4adc-8e4e-4b6c97bcf325",
   "metadata": {},
   "outputs": [
    {
     "name": "stdout",
     "output_type": "stream",
     "text": [
      "<class 'pandas.core.frame.DataFrame'>\n",
      "RangeIndex: 541909 entries, 0 to 541908\n",
      "Data columns (total 8 columns):\n",
      " #   Column       Non-Null Count   Dtype         \n",
      "---  ------       --------------   -----         \n",
      " 0   InvoiceNo    541909 non-null  object        \n",
      " 1   StockCode    541909 non-null  object        \n",
      " 2   Description  540455 non-null  object        \n",
      " 3   Quantity     541909 non-null  int64         \n",
      " 4   InvoiceDate  541909 non-null  datetime64[ns]\n",
      " 5   UnitPrice    541909 non-null  float64       \n",
      " 6   CustomerID   406829 non-null  float64       \n",
      " 7   Country      541909 non-null  object        \n",
      "dtypes: datetime64[ns](1), float64(2), int64(1), object(4)\n",
      "memory usage: 33.1+ MB\n"
     ]
    }
   ],
   "source": [
    "# Display basic information about the dataset\n",
    "data.info()"
   ]
  },
  {
   "cell_type": "code",
   "execution_count": 5,
   "id": "3feb3097-cabd-48d9-8772-f6cdfb205135",
   "metadata": {},
   "outputs": [
    {
     "name": "stdout",
     "output_type": "stream",
     "text": [
      "            Quantity                    InvoiceDate      UnitPrice  \\\n",
      "count  541909.000000                         541909  541909.000000   \n",
      "mean        9.552250  2011-07-04 13:34:57.156386048       4.611114   \n",
      "min    -80995.000000            2010-12-01 08:26:00  -11062.060000   \n",
      "25%         1.000000            2011-03-28 11:34:00       1.250000   \n",
      "50%         3.000000            2011-07-19 17:17:00       2.080000   \n",
      "75%        10.000000            2011-10-19 11:27:00       4.130000   \n",
      "max     80995.000000            2011-12-09 12:50:00   38970.000000   \n",
      "std       218.081158                            NaN      96.759853   \n",
      "\n",
      "          CustomerID  \n",
      "count  406829.000000  \n",
      "mean    15287.690570  \n",
      "min     12346.000000  \n",
      "25%     13953.000000  \n",
      "50%     15152.000000  \n",
      "75%     16791.000000  \n",
      "max     18287.000000  \n",
      "std      1713.600303  \n"
     ]
    }
   ],
   "source": [
    "# Display statistical summary of the dataset\n",
    "print(data.describe())"
   ]
  },
  {
   "cell_type": "code",
   "execution_count": 6,
   "id": "2ea58390-5934-43a4-8933-ce7d13cd7b6a",
   "metadata": {},
   "outputs": [
    {
     "data": {
      "text/plain": [
       "InvoiceNo      25900\n",
       "StockCode       4070\n",
       "Description     4223\n",
       "Quantity         722\n",
       "InvoiceDate    23260\n",
       "UnitPrice       1630\n",
       "CustomerID      4372\n",
       "Country           38\n",
       "dtype: int64"
      ]
     },
     "execution_count": 6,
     "metadata": {},
     "output_type": "execute_result"
    }
   ],
   "source": [
    "# Displaying number of unique values\n",
    "data.nunique()"
   ]
  },
  {
   "cell_type": "code",
   "execution_count": 7,
   "id": "7fe0ca29",
   "metadata": {},
   "outputs": [
    {
     "data": {
      "text/plain": [
       "InvoiceNo              object\n",
       "StockCode              object\n",
       "Description            object\n",
       "Quantity                int64\n",
       "InvoiceDate    datetime64[ns]\n",
       "UnitPrice             float64\n",
       "CustomerID            float64\n",
       "Country                object\n",
       "dtype: object"
      ]
     },
     "execution_count": 7,
     "metadata": {},
     "output_type": "execute_result"
    }
   ],
   "source": [
    "# Checking the datatype of each column\n",
    "data.dtypes"
   ]
  },
  {
   "cell_type": "code",
   "execution_count": 8,
   "id": "750fa596",
   "metadata": {},
   "outputs": [
    {
     "data": {
      "text/plain": [
       "(541909, 8)"
      ]
     },
     "execution_count": 8,
     "metadata": {},
     "output_type": "execute_result"
    }
   ],
   "source": [
    "# Checking the shape of the dataset that has been loaded\n",
    "data.shape"
   ]
  },
  {
   "cell_type": "markdown",
   "id": "12c400ab",
   "metadata": {},
   "source": [
    "# 3. Clean the data"
   ]
  },
  {
   "cell_type": "code",
   "execution_count": 9,
   "id": "3f475731-1930-49f8-8ae3-12feb49654ca",
   "metadata": {},
   "outputs": [
    {
     "name": "stderr",
     "output_type": "stream",
     "text": [
      "C:\\Users\\Dell\\AppData\\Local\\Temp\\ipykernel_9128\\388324466.py:10: FutureWarning: Downcasting object dtype arrays on .fillna, .ffill, .bfill is deprecated and will change in a future version. Call result.infer_objects(copy=False) instead. To opt-in to the future behavior, set `pd.set_option('future.no_silent_downcasting', True)`\n",
      "  data['Description'] = data.groupby('InvoiceNo')['Description'].transform(lambda x: x.fillna(x.mode()[0] if not x.mode().empty else 'No Description'))\n"
     ]
    }
   ],
   "source": [
    "# Convert InvoiceDate to datetime\n",
    "data['InvoiceDate'] = pd.to_datetime(data['InvoiceDate'])\n",
    "\n",
    "# Fill missing CustomerID values based on InvoiceDate\n",
    "data['CustomerID'] = data.groupby('InvoiceDate')['CustomerID'].transform(lambda x: x.fillna(x.mode()[0] if not x.mode().empty else -1))\n",
    "\n",
    "\n",
    "# Fill missing Description with a placeholder\n",
    "\n",
    "data['Description'] = data.groupby('InvoiceNo')['Description'].transform(lambda x: x.fillna(x.mode()[0] if not x.mode().empty else 'No Description'))\n",
    "\n",
    "\n",
    "data['InvoiceDate'] = pd.to_datetime(data['InvoiceDate'])"
   ]
  },
  {
   "cell_type": "code",
   "execution_count": 10,
   "id": "86af6fac-f2f9-4172-a02a-5e7825f2fce3",
   "metadata": {},
   "outputs": [
    {
     "data": {
      "text/plain": [
       "InvoiceNo      0\n",
       "StockCode      0\n",
       "Description    0\n",
       "Quantity       0\n",
       "InvoiceDate    0\n",
       "UnitPrice      0\n",
       "CustomerID     0\n",
       "Country        0\n",
       "dtype: int64"
      ]
     },
     "execution_count": 10,
     "metadata": {},
     "output_type": "execute_result"
    }
   ],
   "source": [
    "data.isnull().sum()"
   ]
  },
  {
   "cell_type": "code",
   "execution_count": 11,
   "id": "d51e60b6-0e03-413d-973d-9463f54c151b",
   "metadata": {},
   "outputs": [],
   "source": [
    "# drop duplicates\n",
    "data = data.drop_duplicates()"
   ]
  },
  {
   "cell_type": "code",
   "execution_count": 12,
   "id": "8fd56cf2-da2f-44e6-b8f6-875fd6dcd640",
   "metadata": {},
   "outputs": [],
   "source": [
    "### Handle Outliers in the dataset"
   ]
  },
  {
   "cell_type": "code",
   "execution_count": 13,
   "id": "f51431f8-2144-41db-bd3a-02d7143e2611",
   "metadata": {},
   "outputs": [
    {
     "data": {
      "text/html": [
       "<div>\n",
       "<style scoped>\n",
       "    .dataframe tbody tr th:only-of-type {\n",
       "        vertical-align: middle;\n",
       "    }\n",
       "\n",
       "    .dataframe tbody tr th {\n",
       "        vertical-align: top;\n",
       "    }\n",
       "\n",
       "    .dataframe thead th {\n",
       "        text-align: right;\n",
       "    }\n",
       "</style>\n",
       "<table border=\"1\" class=\"dataframe\">\n",
       "  <thead>\n",
       "    <tr style=\"text-align: right;\">\n",
       "      <th></th>\n",
       "      <th>CustomerID</th>\n",
       "      <th>Quantity</th>\n",
       "      <th>TotalSpend</th>\n",
       "      <th>Frequency</th>\n",
       "      <th>Recency</th>\n",
       "    </tr>\n",
       "  </thead>\n",
       "  <tbody>\n",
       "    <tr>\n",
       "      <th>0</th>\n",
       "      <td>-1.0</td>\n",
       "      <td>251587</td>\n",
       "      <td>1342813.57</td>\n",
       "      <td>3294</td>\n",
       "      <td>0</td>\n",
       "    </tr>\n",
       "    <tr>\n",
       "      <th>1</th>\n",
       "      <td>12346.0</td>\n",
       "      <td>0</td>\n",
       "      <td>0.00</td>\n",
       "      <td>2</td>\n",
       "      <td>325</td>\n",
       "    </tr>\n",
       "    <tr>\n",
       "      <th>2</th>\n",
       "      <td>12347.0</td>\n",
       "      <td>2458</td>\n",
       "      <td>4310.00</td>\n",
       "      <td>7</td>\n",
       "      <td>1</td>\n",
       "    </tr>\n",
       "    <tr>\n",
       "      <th>3</th>\n",
       "      <td>12348.0</td>\n",
       "      <td>2341</td>\n",
       "      <td>1797.24</td>\n",
       "      <td>4</td>\n",
       "      <td>74</td>\n",
       "    </tr>\n",
       "    <tr>\n",
       "      <th>4</th>\n",
       "      <td>12349.0</td>\n",
       "      <td>631</td>\n",
       "      <td>1757.55</td>\n",
       "      <td>1</td>\n",
       "      <td>18</td>\n",
       "    </tr>\n",
       "    <tr>\n",
       "      <th>...</th>\n",
       "      <td>...</td>\n",
       "      <td>...</td>\n",
       "      <td>...</td>\n",
       "      <td>...</td>\n",
       "      <td>...</td>\n",
       "    </tr>\n",
       "    <tr>\n",
       "      <th>4368</th>\n",
       "      <td>18280.0</td>\n",
       "      <td>45</td>\n",
       "      <td>180.60</td>\n",
       "      <td>1</td>\n",
       "      <td>277</td>\n",
       "    </tr>\n",
       "    <tr>\n",
       "      <th>4369</th>\n",
       "      <td>18281.0</td>\n",
       "      <td>54</td>\n",
       "      <td>80.82</td>\n",
       "      <td>1</td>\n",
       "      <td>180</td>\n",
       "    </tr>\n",
       "    <tr>\n",
       "      <th>4370</th>\n",
       "      <td>18282.0</td>\n",
       "      <td>98</td>\n",
       "      <td>176.60</td>\n",
       "      <td>3</td>\n",
       "      <td>7</td>\n",
       "    </tr>\n",
       "    <tr>\n",
       "      <th>4371</th>\n",
       "      <td>18283.0</td>\n",
       "      <td>1357</td>\n",
       "      <td>2045.53</td>\n",
       "      <td>16</td>\n",
       "      <td>3</td>\n",
       "    </tr>\n",
       "    <tr>\n",
       "      <th>4372</th>\n",
       "      <td>18287.0</td>\n",
       "      <td>1586</td>\n",
       "      <td>1837.28</td>\n",
       "      <td>3</td>\n",
       "      <td>42</td>\n",
       "    </tr>\n",
       "  </tbody>\n",
       "</table>\n",
       "<p>4373 rows × 5 columns</p>\n",
       "</div>"
      ],
      "text/plain": [
       "      CustomerID  Quantity  TotalSpend  Frequency  Recency\n",
       "0           -1.0    251587  1342813.57       3294        0\n",
       "1        12346.0         0        0.00          2      325\n",
       "2        12347.0      2458     4310.00          7        1\n",
       "3        12348.0      2341     1797.24          4       74\n",
       "4        12349.0       631     1757.55          1       18\n",
       "...          ...       ...         ...        ...      ...\n",
       "4368     18280.0        45      180.60          1      277\n",
       "4369     18281.0        54       80.82          1      180\n",
       "4370     18282.0        98      176.60          3        7\n",
       "4371     18283.0      1357     2045.53         16        3\n",
       "4372     18287.0      1586     1837.28          3       42\n",
       "\n",
       "[4373 rows x 5 columns]"
      ]
     },
     "execution_count": 13,
     "metadata": {},
     "output_type": "execute_result"
    }
   ],
   "source": [
    "# Calculate TotalSpend\n",
    "data['TotalSpend'] = data['Quantity'] * data['UnitPrice']\n",
    "\n",
    "# Aggregate data to customer level\n",
    "customer_data = data.groupby('CustomerID').agg({\n",
    "    'Quantity': 'sum',\n",
    "    'TotalSpend': 'sum',\n",
    "      # Frequency\n",
    "    'InvoiceNo': 'nunique',\n",
    "    # For Recency\n",
    "    'InvoiceDate': 'max'  \n",
    "}).reset_index()\n",
    "\n",
    "# Calculate Frequency and Recency\n",
    "customer_data.rename(columns={'InvoiceNo': 'Frequency'}, inplace=True)\n",
    "customer_data['Recency'] = (data['InvoiceDate'].max() - customer_data['InvoiceDate']).dt.days\n",
    "\n",
    "# Drop unnecessary columns\n",
    "customer_data = customer_data[['CustomerID', 'Quantity', 'TotalSpend', 'Frequency', 'Recency']]\n",
    "\n",
    "# Inspect the resulting dataframe\n",
    "customer_data"
   ]
  },
  {
   "cell_type": "code",
   "execution_count": 14,
   "id": "3a4f047d-2843-4811-a0f9-a5988410159c",
   "metadata": {},
   "outputs": [
    {
     "name": "stdout",
     "output_type": "stream",
     "text": [
      "Original dataset size: 4373\n",
      "Dataset size after removing outliers: 3663\n"
     ]
    },
    {
     "data": {
      "text/html": [
       "<div>\n",
       "<style scoped>\n",
       "    .dataframe tbody tr th:only-of-type {\n",
       "        vertical-align: middle;\n",
       "    }\n",
       "\n",
       "    .dataframe tbody tr th {\n",
       "        vertical-align: top;\n",
       "    }\n",
       "\n",
       "    .dataframe thead th {\n",
       "        text-align: right;\n",
       "    }\n",
       "</style>\n",
       "<table border=\"1\" class=\"dataframe\">\n",
       "  <thead>\n",
       "    <tr style=\"text-align: right;\">\n",
       "      <th></th>\n",
       "      <th>CustomerID</th>\n",
       "      <th>Quantity</th>\n",
       "      <th>TotalSpend</th>\n",
       "      <th>Frequency</th>\n",
       "      <th>Recency</th>\n",
       "    </tr>\n",
       "  </thead>\n",
       "  <tbody>\n",
       "    <tr>\n",
       "      <th>1</th>\n",
       "      <td>12346.0</td>\n",
       "      <td>0</td>\n",
       "      <td>0.00</td>\n",
       "      <td>2</td>\n",
       "      <td>325</td>\n",
       "    </tr>\n",
       "    <tr>\n",
       "      <th>4</th>\n",
       "      <td>12349.0</td>\n",
       "      <td>631</td>\n",
       "      <td>1757.55</td>\n",
       "      <td>1</td>\n",
       "      <td>18</td>\n",
       "    </tr>\n",
       "    <tr>\n",
       "      <th>5</th>\n",
       "      <td>12350.0</td>\n",
       "      <td>197</td>\n",
       "      <td>334.40</td>\n",
       "      <td>1</td>\n",
       "      <td>309</td>\n",
       "    </tr>\n",
       "    <tr>\n",
       "      <th>6</th>\n",
       "      <td>12352.0</td>\n",
       "      <td>470</td>\n",
       "      <td>1545.41</td>\n",
       "      <td>11</td>\n",
       "      <td>35</td>\n",
       "    </tr>\n",
       "    <tr>\n",
       "      <th>7</th>\n",
       "      <td>12353.0</td>\n",
       "      <td>20</td>\n",
       "      <td>89.00</td>\n",
       "      <td>1</td>\n",
       "      <td>203</td>\n",
       "    </tr>\n",
       "    <tr>\n",
       "      <th>...</th>\n",
       "      <td>...</td>\n",
       "      <td>...</td>\n",
       "      <td>...</td>\n",
       "      <td>...</td>\n",
       "      <td>...</td>\n",
       "    </tr>\n",
       "    <tr>\n",
       "      <th>4367</th>\n",
       "      <td>18278.0</td>\n",
       "      <td>66</td>\n",
       "      <td>173.90</td>\n",
       "      <td>1</td>\n",
       "      <td>73</td>\n",
       "    </tr>\n",
       "    <tr>\n",
       "      <th>4368</th>\n",
       "      <td>18280.0</td>\n",
       "      <td>45</td>\n",
       "      <td>180.60</td>\n",
       "      <td>1</td>\n",
       "      <td>277</td>\n",
       "    </tr>\n",
       "    <tr>\n",
       "      <th>4369</th>\n",
       "      <td>18281.0</td>\n",
       "      <td>54</td>\n",
       "      <td>80.82</td>\n",
       "      <td>1</td>\n",
       "      <td>180</td>\n",
       "    </tr>\n",
       "    <tr>\n",
       "      <th>4370</th>\n",
       "      <td>18282.0</td>\n",
       "      <td>98</td>\n",
       "      <td>176.60</td>\n",
       "      <td>3</td>\n",
       "      <td>7</td>\n",
       "    </tr>\n",
       "    <tr>\n",
       "      <th>4372</th>\n",
       "      <td>18287.0</td>\n",
       "      <td>1586</td>\n",
       "      <td>1837.28</td>\n",
       "      <td>3</td>\n",
       "      <td>42</td>\n",
       "    </tr>\n",
       "  </tbody>\n",
       "</table>\n",
       "<p>3663 rows × 5 columns</p>\n",
       "</div>"
      ],
      "text/plain": [
       "      CustomerID  Quantity  TotalSpend  Frequency  Recency\n",
       "1        12346.0         0        0.00          2      325\n",
       "4        12349.0       631     1757.55          1       18\n",
       "5        12350.0       197      334.40          1      309\n",
       "6        12352.0       470     1545.41         11       35\n",
       "7        12353.0        20       89.00          1      203\n",
       "...          ...       ...         ...        ...      ...\n",
       "4367     18278.0        66      173.90          1       73\n",
       "4368     18280.0        45      180.60          1      277\n",
       "4369     18281.0        54       80.82          1      180\n",
       "4370     18282.0        98      176.60          3        7\n",
       "4372     18287.0      1586     1837.28          3       42\n",
       "\n",
       "[3663 rows x 5 columns]"
      ]
     },
     "execution_count": 14,
     "metadata": {},
     "output_type": "execute_result"
    }
   ],
   "source": [
    "def identify_and_remove_outliers(dataset, feature_columns):\n",
    "    \"\"\"\n",
    "    Identifies and removes outliers from the specified columns of the dataset.\n",
    "\n",
    "    Parameters:\n",
    "    dataset (DataFrame): The input data.\n",
    "    feature_columns (list): List of columns to check for outliers.\n",
    "\n",
    "    Returns:\n",
    "    DataFrame: The dataset with outliers removed.\n",
    "    \"\"\"\n",
    "    outlier_indices = set()\n",
    "    \n",
    "    for feature in feature_columns:\n",
    "        Q1 = dataset[feature].quantile(0.25)\n",
    "        Q3 = dataset[feature].quantile(0.75)\n",
    "        IQR = Q3 - Q1\n",
    "        lower_limit = Q1 - 1.5 * IQR\n",
    "        upper_limit = Q3 + 1.5 * IQR\n",
    "        \n",
    "        # Identify outliers for the current feature\n",
    "        feature_outliers = dataset[(dataset[feature] < lower_limit) | (dataset[feature] > upper_limit)].index\n",
    "        outlier_indices.update(feature_outliers)\n",
    "    \n",
    "    # Remove identified outliers from the dataset\n",
    "    cleaned_dataset = dataset.drop(outlier_indices)\n",
    "    \n",
    "    return cleaned_dataset\n",
    "\n",
    "# Apply the function to the customer data\n",
    "cleaned_customer_data = identify_and_remove_outliers(customer_data, ['Quantity', 'TotalSpend', 'Frequency', 'Recency'])\n",
    "\n",
    "print(f\"Original dataset size: {customer_data.shape[0]}\")\n",
    "print(f\"Dataset size after removing outliers: {cleaned_customer_data.shape[0]}\")\n",
    "\n",
    "cleaned_customer_data\n"
   ]
  },
  {
   "cell_type": "markdown",
   "id": "b5542e5a",
   "metadata": {},
   "source": [
    "#  4. Transform the Data"
   ]
  },
  {
   "cell_type": "code",
   "execution_count": 15,
   "id": "604a536e",
   "metadata": {},
   "outputs": [
    {
     "data": {
      "text/html": [
       "<div>\n",
       "<style scoped>\n",
       "    .dataframe tbody tr th:only-of-type {\n",
       "        vertical-align: middle;\n",
       "    }\n",
       "\n",
       "    .dataframe tbody tr th {\n",
       "        vertical-align: top;\n",
       "    }\n",
       "\n",
       "    .dataframe thead th {\n",
       "        text-align: right;\n",
       "    }\n",
       "</style>\n",
       "<table border=\"1\" class=\"dataframe\">\n",
       "  <thead>\n",
       "    <tr style=\"text-align: right;\">\n",
       "      <th></th>\n",
       "      <th>Quantity</th>\n",
       "      <th>TotalSpend</th>\n",
       "      <th>Frequency</th>\n",
       "      <th>Recency</th>\n",
       "    </tr>\n",
       "  </thead>\n",
       "  <tbody>\n",
       "    <tr>\n",
       "      <th>0</th>\n",
       "      <td>-1.033639</td>\n",
       "      <td>-1.082133</td>\n",
       "      <td>-0.477305</td>\n",
       "      <td>2.586083</td>\n",
       "    </tr>\n",
       "    <tr>\n",
       "      <th>1</th>\n",
       "      <td>0.317000</td>\n",
       "      <td>1.233102</td>\n",
       "      <td>-0.860718</td>\n",
       "      <td>-0.798631</td>\n",
       "    </tr>\n",
       "    <tr>\n",
       "      <th>2</th>\n",
       "      <td>-0.611966</td>\n",
       "      <td>-0.641625</td>\n",
       "      <td>-0.860718</td>\n",
       "      <td>2.409681</td>\n",
       "    </tr>\n",
       "    <tr>\n",
       "      <th>3</th>\n",
       "      <td>-0.027616</td>\n",
       "      <td>0.953648</td>\n",
       "      <td>2.973419</td>\n",
       "      <td>-0.611204</td>\n",
       "    </tr>\n",
       "    <tr>\n",
       "      <th>4</th>\n",
       "      <td>-0.990830</td>\n",
       "      <td>-0.964893</td>\n",
       "      <td>-0.860718</td>\n",
       "      <td>1.241018</td>\n",
       "    </tr>\n",
       "    <tr>\n",
       "      <th>...</th>\n",
       "      <td>...</td>\n",
       "      <td>...</td>\n",
       "      <td>...</td>\n",
       "      <td>...</td>\n",
       "    </tr>\n",
       "    <tr>\n",
       "      <th>3658</th>\n",
       "      <td>-0.892368</td>\n",
       "      <td>-0.853053</td>\n",
       "      <td>-0.860718</td>\n",
       "      <td>-0.192249</td>\n",
       "    </tr>\n",
       "    <tr>\n",
       "      <th>3659</th>\n",
       "      <td>-0.937318</td>\n",
       "      <td>-0.844227</td>\n",
       "      <td>-0.860718</td>\n",
       "      <td>2.056877</td>\n",
       "    </tr>\n",
       "    <tr>\n",
       "      <th>3660</th>\n",
       "      <td>-0.918054</td>\n",
       "      <td>-0.975668</td>\n",
       "      <td>-0.860718</td>\n",
       "      <td>0.987440</td>\n",
       "    </tr>\n",
       "    <tr>\n",
       "      <th>3661</th>\n",
       "      <td>-0.823873</td>\n",
       "      <td>-0.849496</td>\n",
       "      <td>-0.093891</td>\n",
       "      <td>-0.919907</td>\n",
       "    </tr>\n",
       "    <tr>\n",
       "      <th>3662</th>\n",
       "      <td>2.361153</td>\n",
       "      <td>1.338131</td>\n",
       "      <td>-0.093891</td>\n",
       "      <td>-0.534028</td>\n",
       "    </tr>\n",
       "  </tbody>\n",
       "</table>\n",
       "<p>3663 rows × 4 columns</p>\n",
       "</div>"
      ],
      "text/plain": [
       "      Quantity  TotalSpend  Frequency   Recency\n",
       "0    -1.033639   -1.082133  -0.477305  2.586083\n",
       "1     0.317000    1.233102  -0.860718 -0.798631\n",
       "2    -0.611966   -0.641625  -0.860718  2.409681\n",
       "3    -0.027616    0.953648   2.973419 -0.611204\n",
       "4    -0.990830   -0.964893  -0.860718  1.241018\n",
       "...        ...         ...        ...       ...\n",
       "3658 -0.892368   -0.853053  -0.860718 -0.192249\n",
       "3659 -0.937318   -0.844227  -0.860718  2.056877\n",
       "3660 -0.918054   -0.975668  -0.860718  0.987440\n",
       "3661 -0.823873   -0.849496  -0.093891 -0.919907\n",
       "3662  2.361153    1.338131  -0.093891 -0.534028\n",
       "\n",
       "[3663 rows x 4 columns]"
      ]
     },
     "execution_count": 15,
     "metadata": {},
     "output_type": "execute_result"
    }
   ],
   "source": [
    "# Normalize the data\n",
    "scaler = StandardScaler()\n",
    "scaled_columns = scaler.fit_transform(cleaned_customer_data[['Quantity', 'TotalSpend', 'Frequency', 'Recency']])\n",
    "\n",
    "# Convert the scaled features back to a DataFrame\n",
    "scaled_customer_data = pd.DataFrame(scaled_columns, columns=['Quantity', 'TotalSpend', 'Frequency', 'Recency'])\n",
    "scaled_customer_data"
   ]
  },
  {
   "cell_type": "markdown",
   "id": "f0d03fce",
   "metadata": {},
   "source": [
    "# 5. K Means Clustering"
   ]
  },
  {
   "cell_type": "markdown",
   "id": "8d4540d6",
   "metadata": {},
   "source": [
    "### 1. Use the elbow graph to identify the optimal number of clusters"
   ]
  },
  {
   "cell_type": "code",
   "execution_count": 16,
   "id": "3b157952",
   "metadata": {},
   "outputs": [],
   "source": [
    "wcss=[]\n",
    "for i in range(1,10):\n",
    "    km = KMeans(n_clusters=i)\n",
    "    km.fit(customer_data)\n",
    "    wcss.append(km.inertia_)"
   ]
  },
  {
   "cell_type": "code",
   "execution_count": 17,
   "id": "6488e68b",
   "metadata": {},
   "outputs": [
    {
     "data": {
      "text/plain": [
       "[2268403416097.47,\n",
       " 407849617350.7554,\n",
       " 159440216849.22858,\n",
       " 94954206555.46704,\n",
       " 66171558822.27966,\n",
       " 48827815816.94872,\n",
       " 43782701573.48284,\n",
       " 38984491518.11466,\n",
       " 23986189140.738564]"
      ]
     },
     "execution_count": 17,
     "metadata": {},
     "output_type": "execute_result"
    }
   ],
   "source": [
    "wcss"
   ]
  },
  {
   "cell_type": "markdown",
   "id": "cf0a4d2b-d5ec-46c6-bc71-211168fbcdf3",
   "metadata": {},
   "source": [
    "## Plotting the elbow graph"
   ]
  },
  {
   "cell_type": "code",
   "execution_count": 19,
   "id": "984e117e-67b5-45be-937a-6192c0902608",
   "metadata": {},
   "outputs": [
    {
     "data": {
      "text/plain": [
       "<Axes: >"
      ]
     },
     "execution_count": 19,
     "metadata": {},
     "output_type": "execute_result"
    },
    {
     "data": {
      "image/png": "[encoded data removed]",
      "text/plain": [
       "<Figure size 640x480 with 1 Axes>"
      ]
     },
     "metadata": {},
     "output_type": "display_data"
    }
   ],
   "source": [
    "sns.lineplot(x=range(1,10), y=wcss, marker='o')"
   ]
  },
  {
   "cell_type": "markdown",
   "id": "95518dcf-3c88-4f4d-b2ab-5199a5c28b8c",
   "metadata": {},
   "source": [
    "### Based on the elbow plot, determine the optimal number of clusters\n",
    "### Let's assume the optimal number of clusters is 5\n"
   ]
  },
  {
   "cell_type": "code",
   "execution_count": 20,
   "id": "385264f2-ca4a-4c63-9b83-17cce5767749",
   "metadata": {},
   "outputs": [],
   "source": [
    "# Applying K-means clustering\n",
    "optimal_clusters = 5 \n",
    "kmeans = KMeans(n_clusters=optimal_clusters, random_state=42)\n",
    "cleaned_customer_data['Cluster'] = kmeans.fit_predict(scaled_customer_data)"
   ]
  },
  {
   "cell_type": "markdown",
   "id": "4bfd7847-a106-416c-a337-0ed687af3cb5",
   "metadata": {},
   "source": [
    "# Visualise the Clusters using Scatterplot"
   ]
  },
  {
   "cell_type": "code",
   "execution_count": 24,
   "id": "9f4d9626-756d-4aa7-9b05-0ffa07bc7f7f",
   "metadata": {},
   "outputs": [
    {
     "data": {
      "image/png": "[encoded data removed]",
      "text/plain": [
       "<Figure size 1000x600 with 1 Axes>"
      ]
     },
     "metadata": {},
     "output_type": "display_data"
    }
   ],
   "source": [
    "# Visualize the centroids of each cluster\n",
    "centroids = kmeans.cluster_centers_\n",
    "centroids = scaler.inverse_transform(centroids)  # Inverse tr ansform to get the original scale\n",
    "\n",
    "plt.figure(figsize=(10, 6))\n",
    "sns.scatterplot(x=cleaned_customer_data['TotalSpend'], y=cleaned_customer_data['Frequency'], hue=cleaned_customer_data['Cluster'], palette='viridis')\n",
    "plt.scatter(centroids[:, 1], centroids[:, 2], s=300, c='red', label='Centroids')\n",
    "plt.xlabel('Total Spend')\n",
    "plt.ylabel('Frequency')\n",
    "plt.title('Customer Segments with Centroids')\n",
    "plt.legend()\n",
    "plt.show()"
   ]
  },
  {
   "cell_type": "markdown",
   "id": "257c5fb5-ba5c-4dae-9f0b-b07f98a7d055",
   "metadata": {},
   "source": [
    "# Assign Cluster Labels to the Original Data"
   ]
  },
  {
   "cell_type": "code",
   "execution_count": 26,
   "id": "3b0b0d6c-32a9-4385-a3ae-30404ed09a12",
   "metadata": {},
   "outputs": [
    {
     "data": {
      "text/html": [
       "<div>\n",
       "<style scoped>\n",
       "    .dataframe tbody tr th:only-of-type {\n",
       "        vertical-align: middle;\n",
       "    }\n",
       "\n",
       "    .dataframe tbody tr th {\n",
       "        vertical-align: top;\n",
       "    }\n",
       "\n",
       "    .dataframe thead th {\n",
       "        text-align: right;\n",
       "    }\n",
       "</style>\n",
       "<table border=\"1\" class=\"dataframe\">\n",
       "  <thead>\n",
       "    <tr style=\"text-align: right;\">\n",
       "      <th></th>\n",
       "      <th>InvoiceNo</th>\n",
       "      <th>StockCode</th>\n",
       "      <th>Description</th>\n",
       "      <th>Quantity</th>\n",
       "      <th>InvoiceDate</th>\n",
       "      <th>UnitPrice</th>\n",
       "      <th>CustomerID</th>\n",
       "      <th>Country</th>\n",
       "      <th>TotalSpend</th>\n",
       "      <th>Cluster</th>\n",
       "    </tr>\n",
       "  </thead>\n",
       "  <tbody>\n",
       "    <tr>\n",
       "      <th>0</th>\n",
       "      <td>536365</td>\n",
       "      <td>85123A</td>\n",
       "      <td>WHITE HANGING HEART T-LIGHT HOLDER</td>\n",
       "      <td>6</td>\n",
       "      <td>2010-12-01 08:26:00</td>\n",
       "      <td>2.55</td>\n",
       "      <td>17850.0</td>\n",
       "      <td>United Kingdom</td>\n",
       "      <td>15.30</td>\n",
       "      <td>NaN</td>\n",
       "    </tr>\n",
       "    <tr>\n",
       "      <th>1</th>\n",
       "      <td>536365</td>\n",
       "      <td>71053</td>\n",
       "      <td>WHITE METAL LANTERN</td>\n",
       "      <td>6</td>\n",
       "      <td>2010-12-01 08:26:00</td>\n",
       "      <td>3.39</td>\n",
       "      <td>17850.0</td>\n",
       "      <td>United Kingdom</td>\n",
       "      <td>20.34</td>\n",
       "      <td>NaN</td>\n",
       "    </tr>\n",
       "    <tr>\n",
       "      <th>2</th>\n",
       "      <td>536365</td>\n",
       "      <td>84406B</td>\n",
       "      <td>CREAM CUPID HEARTS COAT HANGER</td>\n",
       "      <td>8</td>\n",
       "      <td>2010-12-01 08:26:00</td>\n",
       "      <td>2.75</td>\n",
       "      <td>17850.0</td>\n",
       "      <td>United Kingdom</td>\n",
       "      <td>22.00</td>\n",
       "      <td>NaN</td>\n",
       "    </tr>\n",
       "    <tr>\n",
       "      <th>3</th>\n",
       "      <td>536365</td>\n",
       "      <td>84029G</td>\n",
       "      <td>KNITTED UNION FLAG HOT WATER BOTTLE</td>\n",
       "      <td>6</td>\n",
       "      <td>2010-12-01 08:26:00</td>\n",
       "      <td>3.39</td>\n",
       "      <td>17850.0</td>\n",
       "      <td>United Kingdom</td>\n",
       "      <td>20.34</td>\n",
       "      <td>NaN</td>\n",
       "    </tr>\n",
       "    <tr>\n",
       "      <th>4</th>\n",
       "      <td>536365</td>\n",
       "      <td>84029E</td>\n",
       "      <td>RED WOOLLY HOTTIE WHITE HEART.</td>\n",
       "      <td>6</td>\n",
       "      <td>2010-12-01 08:26:00</td>\n",
       "      <td>3.39</td>\n",
       "      <td>17850.0</td>\n",
       "      <td>United Kingdom</td>\n",
       "      <td>20.34</td>\n",
       "      <td>NaN</td>\n",
       "    </tr>\n",
       "  </tbody>\n",
       "</table>\n",
       "</div>"
      ],
      "text/plain": [
       "  InvoiceNo StockCode                          Description  Quantity  \\\n",
       "0    536365    85123A   WHITE HANGING HEART T-LIGHT HOLDER         6   \n",
       "1    536365     71053                  WHITE METAL LANTERN         6   \n",
       "2    536365    84406B       CREAM CUPID HEARTS COAT HANGER         8   \n",
       "3    536365    84029G  KNITTED UNION FLAG HOT WATER BOTTLE         6   \n",
       "4    536365    84029E       RED WOOLLY HOTTIE WHITE HEART.         6   \n",
       "\n",
       "          InvoiceDate  UnitPrice  CustomerID         Country  TotalSpend  \\\n",
       "0 2010-12-01 08:26:00       2.55     17850.0  United Kingdom       15.30   \n",
       "1 2010-12-01 08:26:00       3.39     17850.0  United Kingdom       20.34   \n",
       "2 2010-12-01 08:26:00       2.75     17850.0  United Kingdom       22.00   \n",
       "3 2010-12-01 08:26:00       3.39     17850.0  United Kingdom       20.34   \n",
       "4 2010-12-01 08:26:00       3.39     17850.0  United Kingdom       20.34   \n",
       "\n",
       "   Cluster  \n",
       "0      NaN  \n",
       "1      NaN  \n",
       "2      NaN  \n",
       "3      NaN  \n",
       "4      NaN  "
      ]
     },
     "execution_count": 26,
     "metadata": {},
     "output_type": "execute_result"
    }
   ],
   "source": [
    "# Merge the cluster labels with the original dataset\n",
    "original_data_clusters = data.merge(cleaned_customer_data[['CustomerID', 'Cluster']], on='CustomerID', how='left')\n",
    "original_data_clusters.head()\n"
   ]
  },
  {
   "cell_type": "markdown",
   "id": "8d712360-ed97-4504-8ddc-abe46df0fe0e",
   "metadata": {},
   "source": [
    "# Analyze Each Segment"
   ]
  },
  {
   "cell_type": "code",
   "execution_count": 27,
   "id": "d6d7422b-9b29-4282-8b5d-97cb458e0ddc",
   "metadata": {},
   "outputs": [
    {
     "data": {
      "text/html": [
       "<div>\n",
       "<style scoped>\n",
       "    .dataframe tbody tr th:only-of-type {\n",
       "        vertical-align: middle;\n",
       "    }\n",
       "\n",
       "    .dataframe tbody tr th {\n",
       "        vertical-align: top;\n",
       "    }\n",
       "\n",
       "    .dataframe thead tr th {\n",
       "        text-align: left;\n",
       "    }\n",
       "</style>\n",
       "<table border=\"1\" class=\"dataframe\">\n",
       "  <thead>\n",
       "    <tr>\n",
       "      <th></th>\n",
       "      <th>Cluster</th>\n",
       "      <th colspan=\"3\" halign=\"left\">Quantity</th>\n",
       "      <th colspan=\"3\" halign=\"left\">TotalSpend</th>\n",
       "      <th colspan=\"3\" halign=\"left\">Frequency</th>\n",
       "      <th colspan=\"3\" halign=\"left\">Recency</th>\n",
       "    </tr>\n",
       "    <tr>\n",
       "      <th></th>\n",
       "      <th></th>\n",
       "      <th>mean</th>\n",
       "      <th>median</th>\n",
       "      <th>std</th>\n",
       "      <th>mean</th>\n",
       "      <th>median</th>\n",
       "      <th>std</th>\n",
       "      <th>mean</th>\n",
       "      <th>median</th>\n",
       "      <th>std</th>\n",
       "      <th>mean</th>\n",
       "      <th>median</th>\n",
       "      <th>std</th>\n",
       "    </tr>\n",
       "  </thead>\n",
       "  <tbody>\n",
       "    <tr>\n",
       "      <th>0</th>\n",
       "      <td>0</td>\n",
       "      <td>750.217284</td>\n",
       "      <td>735.5</td>\n",
       "      <td>294.912716</td>\n",
       "      <td>1251.681149</td>\n",
       "      <td>1214.230</td>\n",
       "      <td>403.577290</td>\n",
       "      <td>4.909877</td>\n",
       "      <td>5.0</td>\n",
       "      <td>2.030795</td>\n",
       "      <td>43.655556</td>\n",
       "      <td>28.0</td>\n",
       "      <td>43.458388</td>\n",
       "    </tr>\n",
       "    <tr>\n",
       "      <th>1</th>\n",
       "      <td>1</td>\n",
       "      <td>243.261649</td>\n",
       "      <td>194.5</td>\n",
       "      <td>192.777869</td>\n",
       "      <td>421.242491</td>\n",
       "      <td>346.865</td>\n",
       "      <td>320.028654</td>\n",
       "      <td>2.044803</td>\n",
       "      <td>2.0</td>\n",
       "      <td>1.193850</td>\n",
       "      <td>157.197133</td>\n",
       "      <td>157.0</td>\n",
       "      <td>33.216506</td>\n",
       "    </tr>\n",
       "    <tr>\n",
       "      <th>2</th>\n",
       "      <td>2</td>\n",
       "      <td>1436.085106</td>\n",
       "      <td>1416.0</td>\n",
       "      <td>365.019596</td>\n",
       "      <td>2408.604069</td>\n",
       "      <td>2358.840</td>\n",
       "      <td>564.054905</td>\n",
       "      <td>7.737589</td>\n",
       "      <td>8.0</td>\n",
       "      <td>2.829211</td>\n",
       "      <td>36.226950</td>\n",
       "      <td>21.0</td>\n",
       "      <td>44.395951</td>\n",
       "    </tr>\n",
       "    <tr>\n",
       "      <th>3</th>\n",
       "      <td>3</td>\n",
       "      <td>243.385355</td>\n",
       "      <td>218.0</td>\n",
       "      <td>161.261836</td>\n",
       "      <td>420.541658</td>\n",
       "      <td>379.120</td>\n",
       "      <td>255.531752</td>\n",
       "      <td>2.002959</td>\n",
       "      <td>2.0</td>\n",
       "      <td>1.107804</td>\n",
       "      <td>39.200444</td>\n",
       "      <td>35.0</td>\n",
       "      <td>26.398286</td>\n",
       "    </tr>\n",
       "    <tr>\n",
       "      <th>4</th>\n",
       "      <td>4</td>\n",
       "      <td>171.025000</td>\n",
       "      <td>126.0</td>\n",
       "      <td>168.234380</td>\n",
       "      <td>332.170981</td>\n",
       "      <td>259.045</td>\n",
       "      <td>319.350476</td>\n",
       "      <td>1.513462</td>\n",
       "      <td>1.0</td>\n",
       "      <td>1.000872</td>\n",
       "      <td>268.984615</td>\n",
       "      <td>266.0</td>\n",
       "      <td>33.716656</td>\n",
       "    </tr>\n",
       "  </tbody>\n",
       "</table>\n",
       "</div>"
      ],
      "text/plain": [
       "  Cluster     Quantity                       TotalSpend                        \\\n",
       "                  mean  median         std         mean    median         std   \n",
       "0       0   750.217284   735.5  294.912716  1251.681149  1214.230  403.577290   \n",
       "1       1   243.261649   194.5  192.777869   421.242491   346.865  320.028654   \n",
       "2       2  1436.085106  1416.0  365.019596  2408.604069  2358.840  564.054905   \n",
       "3       3   243.385355   218.0  161.261836   420.541658   379.120  255.531752   \n",
       "4       4   171.025000   126.0  168.234380   332.170981   259.045  319.350476   \n",
       "\n",
       "  Frequency                      Recency                    \n",
       "       mean median       std        mean median        std  \n",
       "0  4.909877    5.0  2.030795   43.655556   28.0  43.458388  \n",
       "1  2.044803    2.0  1.193850  157.197133  157.0  33.216506  \n",
       "2  7.737589    8.0  2.829211   36.226950   21.0  44.395951  \n",
       "3  2.002959    2.0  1.107804   39.200444   35.0  26.398286  \n",
       "4  1.513462    1.0  1.000872  268.984615  266.0  33.716656  "
      ]
     },
     "execution_count": 27,
     "metadata": {},
     "output_type": "execute_result"
    }
   ],
   "source": [
    "\"\"\"\n",
    "    Calculates summary statistics for each cluster.\n",
    "\n",
    "    Parameters:\n",
    "    data (DataFrame): The input data containing cluster labels.\n",
    "    cluster_column (str): The column name for cluster labels. Default is 'Cluster'.\n",
    "    columns_to_aggregate (list): List of columns to calculate statistics for. If None, default columns are used.\n",
    "\n",
    "    Returns:\n",
    "    DataFrame: The summary statistics for each cluster.\n",
    "\"\"\"\n",
    "\n",
    "cluster_summary = cleaned_customer_data.groupby('Cluster').agg({\n",
    "    'Quantity': ['mean', 'median', 'std'],\n",
    "    'TotalSpend': ['mean', 'median', 'std'],\n",
    "    'Frequency': ['mean', 'median', 'std'],\n",
    "    'Recency': ['mean', 'median', 'std']\n",
    "}).reset_index()\n",
    "\n",
    "cluster_summary\n",
    "    \n"
   ]
  },
  {
   "cell_type": "markdown",
   "id": "e5cd2bac-0a7a-4d2f-a0d6-070585254859",
   "metadata": {},
   "source": [
    "# Profile the Customer Segments"
   ]
  },
  {
   "cell_type": "code",
   "execution_count": 28,
   "id": "7861427c-2416-43dd-a7b9-316a957c38c7",
   "metadata": {},
   "outputs": [
    {
     "name": "stdout",
     "output_type": "stream",
     "text": [
      "Customer Segment Cluster 4 Profile:\n",
      "Mean Quantity: 171.025\n",
      "Mean Total Spend: 332.17098076923077\n",
      "Mean Frequency: 1.5134615384615384\n",
      "Mean Recency: 268.9846153846154\n",
      "################################################################################\n",
      "Customer Segment Cluster 0 Profile:\n",
      "Mean Quantity: 750.2172839506172\n",
      "Mean Total Spend: 1251.681149382716\n",
      "Mean Frequency: 4.909876543209877\n",
      "Mean Recency: 43.65555555555556\n",
      "################################################################################\n",
      "Customer Segment Cluster 2 Profile:\n",
      "Mean Quantity: 1436.0851063829787\n",
      "Mean Total Spend: 2408.6040685579196\n",
      "Mean Frequency: 7.73758865248227\n",
      "Mean Recency: 36.226950354609926\n",
      "################################################################################\n",
      "Customer Segment Cluster 3 Profile:\n",
      "Mean Quantity: 243.3853550295858\n",
      "Mean Total Spend: 420.5416582840237\n",
      "Mean Frequency: 2.002958579881657\n",
      "Mean Recency: 39.20044378698225\n",
      "################################################################################\n",
      "Customer Segment Cluster 1 Profile:\n",
      "Mean Quantity: 243.26164874551972\n",
      "Mean Total Spend: 421.2424910394265\n",
      "Mean Frequency: 2.0448028673835124\n",
      "Mean Recency: 157.19713261648747\n",
      "################################################################################\n"
     ]
    },
    {
     "data": {
      "image/png": "[encoded data removed]",
      "text/plain": [
       "<Figure size 1400x800 with 4 Axes>"
      ]
     },
     "metadata": {},
     "output_type": "display_data"
    }
   ],
   "source": [
    "# Profile each customer segment\n",
    "for cluster in cleaned_customer_data['Cluster'].unique():\n",
    "    cluster_data = cleaned_customer_data[cleaned_customer_data['Cluster'] == cluster]\n",
    "    print(f\"Customer Segment Cluster {cluster} Profile:\")\n",
    "    print(f\"Mean Quantity: {cluster_data['Quantity'].mean()}\")\n",
    "    print(f\"Mean Total Spend: {cluster_data['TotalSpend'].mean()}\")\n",
    "    print(f\"Mean Frequency: {cluster_data['Frequency'].mean()}\")\n",
    "    print(f\"Mean Recency: {cluster_data['Recency'].mean()}\")\n",
    "    print(\"################################################################################\")\n",
    "\n",
    "# Visualization using box plots\n",
    "plt.figure(figsize=(14, 8))\n",
    "plt.subplot(2, 2, 1)\n",
    "sns.boxplot(x='Cluster', y='Quantity', data=cleaned_customer_data)\n",
    "plt.title('Quantity Distribution by Cluster')\n",
    "\n",
    "plt.subplot(2, 2, 2)\n",
    "sns.boxplot(x='Cluster', y='TotalSpend', data=cleaned_customer_data)\n",
    "plt.title('Total Spend Distribution by Cluster')\n",
    "\n",
    "plt.subplot(2, 2, 3)\n",
    "sns.boxplot(x='Cluster', y='Frequency', data=cleaned_customer_data)\n",
    "plt.title('Frequency Distribution by Cluster')\n",
    "\n",
    "plt.subplot(2, 2, 4)\n",
    "sns.boxplot(x='Cluster', y='Recency', data=cleaned_customer_data)\n",
    "plt.title('Recency Distribution by Cluster')\n",
    "\n",
    "plt.tight_layout()\n",
    "plt.show()"
   ]
  }
 ],
 "metadata": {
  "kernelspec": {
   "display_name": "Python 3 (ipykernel)",
   "language": "python",
   "name": "python3"
  },
  "language_info": {
   "codemirror_mode": {
    "name": "ipython",
    "version": 3
   },
   "file_extension": ".py",
   "mimetype": "text/x-python",
   "name": "python",
   "nbconvert_exporter": "python",
   "pygments_lexer": "ipython3",
   "version": "3.12.4"
  }
 },
 "nbformat": 4,
 "nbformat_minor": 5
}
